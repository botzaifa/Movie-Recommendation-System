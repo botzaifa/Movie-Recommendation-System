{
 "cells": [
  {
   "cell_type": "code",
   "execution_count": 1,
   "id": "7af05c77",
   "metadata": {},
   "outputs": [],
   "source": [
    "import pandas as pd\n",
    "import numpy as np\n",
    "import seaborn as sns\n",
    "from warnings import filterwarnings\n",
    "filterwarnings('ignore')\n",
    "import matplotlib.pyplot as plt\n",
    "%matplotlib inline"
   ]
  },
  {
   "cell_type": "code",
   "execution_count": 2,
   "id": "e015b7f7",
   "metadata": {},
   "outputs": [
    {
     "data": {
      "text/html": [
       "<div>\n",
       "<style scoped>\n",
       "    .dataframe tbody tr th:only-of-type {\n",
       "        vertical-align: middle;\n",
       "    }\n",
       "\n",
       "    .dataframe tbody tr th {\n",
       "        vertical-align: top;\n",
       "    }\n",
       "\n",
       "    .dataframe thead th {\n",
       "        text-align: right;\n",
       "    }\n",
       "</style>\n",
       "<table border=\"1\" class=\"dataframe\">\n",
       "  <thead>\n",
       "    <tr style=\"text-align: right;\">\n",
       "      <th></th>\n",
       "      <th>Movie Name</th>\n",
       "      <th>Year of Release</th>\n",
       "      <th>Watch Time</th>\n",
       "      <th>Genre</th>\n",
       "      <th>Movie Rating</th>\n",
       "      <th>Metascore of movie</th>\n",
       "      <th>Director</th>\n",
       "      <th>Cast</th>\n",
       "      <th>Votes</th>\n",
       "      <th>Description</th>\n",
       "    </tr>\n",
       "  </thead>\n",
       "  <tbody>\n",
       "    <tr>\n",
       "      <th>0</th>\n",
       "      <td>Oppenheimer</td>\n",
       "      <td>2023</td>\n",
       "      <td>180 min</td>\n",
       "      <td>\\nBiography, Drama, History</td>\n",
       "      <td>8.6</td>\n",
       "      <td>88.0</td>\n",
       "      <td>Christopher Nolan</td>\n",
       "      <td>Cillian Murphy,Emily Blunt,Matt Damon,Robert D...</td>\n",
       "      <td>368,392</td>\n",
       "      <td>The story of American scientist, J. Robert Opp...</td>\n",
       "    </tr>\n",
       "    <tr>\n",
       "      <th>1</th>\n",
       "      <td>Barbie</td>\n",
       "      <td>2023</td>\n",
       "      <td>114 min</td>\n",
       "      <td>\\nAdventure, Comedy, Fantasy</td>\n",
       "      <td>7.4</td>\n",
       "      <td>80.0</td>\n",
       "      <td>Greta Gerwig</td>\n",
       "      <td>Margot Robbie,Ryan Gosling,Issa Rae,Kate McKinnon</td>\n",
       "      <td>246,653</td>\n",
       "      <td>Barbie suffers a crisis that leads her to ques...</td>\n",
       "    </tr>\n",
       "    <tr>\n",
       "      <th>2</th>\n",
       "      <td>Heart of Stone</td>\n",
       "      <td>2023</td>\n",
       "      <td>122 min</td>\n",
       "      <td>\\nAction, Crime, Thriller</td>\n",
       "      <td>5.7</td>\n",
       "      <td>44.0</td>\n",
       "      <td>Tom Harper</td>\n",
       "      <td>Gal Gadot,Jamie Dornan,Alia Bhatt,Jing Lusi</td>\n",
       "      <td>29,166</td>\n",
       "      <td>An intelligence operative for a shadowy global...</td>\n",
       "    </tr>\n",
       "    <tr>\n",
       "      <th>3</th>\n",
       "      <td>Red, White &amp; Royal Blue</td>\n",
       "      <td>2023</td>\n",
       "      <td>118 min</td>\n",
       "      <td>\\nComedy, Romance</td>\n",
       "      <td>7.1</td>\n",
       "      <td>62.0</td>\n",
       "      <td>Matthew López</td>\n",
       "      <td>Taylor Zakhar Perez,Nicholas Galitzine,Uma Thu...</td>\n",
       "      <td>22,778</td>\n",
       "      <td>When the feud between the son of the American ...</td>\n",
       "    </tr>\n",
       "    <tr>\n",
       "      <th>4</th>\n",
       "      <td>Blue Beetle</td>\n",
       "      <td>2023</td>\n",
       "      <td>127 min</td>\n",
       "      <td>\\nAction, Adventure, Sci-Fi</td>\n",
       "      <td>6.8</td>\n",
       "      <td>61.0</td>\n",
       "      <td>Angel Manuel Soto</td>\n",
       "      <td>Xolo Maridueña,Bruna Marquezine,Becky G,Damián...</td>\n",
       "      <td>11,680</td>\n",
       "      <td>An alien scarab chooses college graduate Jaime...</td>\n",
       "    </tr>\n",
       "  </tbody>\n",
       "</table>\n",
       "</div>"
      ],
      "text/plain": [
       "                Movie Name Year of Release Watch Time  \\\n",
       "0              Oppenheimer            2023    180 min   \n",
       "1                   Barbie            2023    114 min   \n",
       "2           Heart of Stone            2023    122 min   \n",
       "3  Red, White & Royal Blue            2023    118 min   \n",
       "4              Blue Beetle            2023    127 min   \n",
       "\n",
       "                                      Genre  Movie Rating  Metascore of movie  \\\n",
       "0   \\nBiography, Drama, History                       8.6                88.0   \n",
       "1  \\nAdventure, Comedy, Fantasy                       7.4                80.0   \n",
       "2     \\nAction, Crime, Thriller                       5.7                44.0   \n",
       "3             \\nComedy, Romance                       7.1                62.0   \n",
       "4   \\nAction, Adventure, Sci-Fi                       6.8                61.0   \n",
       "\n",
       "            Director                                               Cast  \\\n",
       "0  Christopher Nolan  Cillian Murphy,Emily Blunt,Matt Damon,Robert D...   \n",
       "1       Greta Gerwig  Margot Robbie,Ryan Gosling,Issa Rae,Kate McKinnon   \n",
       "2         Tom Harper        Gal Gadot,Jamie Dornan,Alia Bhatt,Jing Lusi   \n",
       "3      Matthew López  Taylor Zakhar Perez,Nicholas Galitzine,Uma Thu...   \n",
       "4  Angel Manuel Soto  Xolo Maridueña,Bruna Marquezine,Becky G,Damián...   \n",
       "\n",
       "     Votes                                        Description  \n",
       "0  368,392  The story of American scientist, J. Robert Opp...  \n",
       "1  246,653  Barbie suffers a crisis that leads her to ques...  \n",
       "2   29,166  An intelligence operative for a shadowy global...  \n",
       "3   22,778  When the feud between the son of the American ...  \n",
       "4   11,680  An alien scarab chooses college graduate Jaime...  "
      ]
     },
     "execution_count": 2,
     "metadata": {},
     "output_type": "execute_result"
    }
   ],
   "source": [
    "df = pd.read_csv('movie_data.csv')\n",
    "df.head()"
   ]
  },
  {
   "cell_type": "code",
   "execution_count": 3,
   "id": "ccc14fe2",
   "metadata": {},
   "outputs": [
    {
     "data": {
      "text/plain": [
       "(1000, 10)"
      ]
     },
     "execution_count": 3,
     "metadata": {},
     "output_type": "execute_result"
    }
   ],
   "source": [
    "df.shape"
   ]
  },
  {
   "cell_type": "code",
   "execution_count": 4,
   "id": "79f8933b",
   "metadata": {},
   "outputs": [
    {
     "name": "stdout",
     "output_type": "stream",
     "text": [
      "<class 'pandas.core.frame.DataFrame'>\n",
      "RangeIndex: 1000 entries, 0 to 999\n",
      "Data columns (total 10 columns):\n",
      " #   Column              Non-Null Count  Dtype  \n",
      "---  ------              --------------  -----  \n",
      " 0   Movie Name          1000 non-null   object \n",
      " 1   Year of Release     996 non-null    object \n",
      " 2   Watch Time          969 non-null    object \n",
      " 3   Genre               1000 non-null   object \n",
      " 4   Movie Rating        950 non-null    float64\n",
      " 5   Metascore of movie  909 non-null    float64\n",
      " 6   Director            1000 non-null   object \n",
      " 7   Cast                1000 non-null   object \n",
      " 8   Votes               950 non-null    object \n",
      " 9   Description         1000 non-null   object \n",
      "dtypes: float64(2), object(8)\n",
      "memory usage: 78.2+ KB\n"
     ]
    }
   ],
   "source": [
    "df.info()"
   ]
  },
  {
   "cell_type": "code",
   "execution_count": 5,
   "id": "1efc0233",
   "metadata": {},
   "outputs": [
    {
     "data": {
      "text/plain": [
       "Movie Name             0\n",
       "Year of Release        4\n",
       "Watch Time            31\n",
       "Genre                  0\n",
       "Movie Rating          50\n",
       "Metascore of movie    91\n",
       "Director               0\n",
       "Cast                   0\n",
       "Votes                 50\n",
       "Description            0\n",
       "dtype: int64"
      ]
     },
     "execution_count": 5,
     "metadata": {},
     "output_type": "execute_result"
    }
   ],
   "source": [
    "df.isnull().sum()"
   ]
  },
  {
   "cell_type": "code",
   "execution_count": 6,
   "id": "dfa3da14",
   "metadata": {},
   "outputs": [
    {
     "data": {
      "text/plain": [
       "0"
      ]
     },
     "execution_count": 6,
     "metadata": {},
     "output_type": "execute_result"
    }
   ],
   "source": [
    "df.duplicated().sum()"
   ]
  },
  {
   "cell_type": "code",
   "execution_count": 7,
   "id": "5718a896",
   "metadata": {},
   "outputs": [
    {
     "data": {
      "text/plain": [
       "Movie Name             992\n",
       "Year of Release         98\n",
       "Watch Time             113\n",
       "Genre                  196\n",
       "Movie Rating            57\n",
       "Metascore of movie      79\n",
       "Director               593\n",
       "Cast                   996\n",
       "Votes                  949\n",
       "Description           1000\n",
       "dtype: int64"
      ]
     },
     "execution_count": 7,
     "metadata": {},
     "output_type": "execute_result"
    }
   ],
   "source": [
    "df.nunique()"
   ]
  },
  {
   "cell_type": "code",
   "execution_count": 8,
   "id": "950a7ed4",
   "metadata": {},
   "outputs": [
    {
     "data": {
      "text/plain": [
       "array(['2023', ' 2023', 'I) (2022', '2024', 'II) (2022', '2022', '2014',\n",
       "       'I) (2023', '2018', '1972', 'I) (2014', '2021', '2008', '2009',\n",
       "       '1994', '2013', '2010', '2019', '2001', '2020', '2006', '1995',\n",
       "       'II) (2023', '2017', '1975', '1997', '2011', '1999', 'II) (2015',\n",
       "       '2005', '1990', 'I) (2019', '2015', '2000', '1979', '1986', '1973',\n",
       "       '2012', '1976', 'I) (2011', '1984', '1993', '1982', '2007', '1978',\n",
       "       'I) (1996', '2004', '1985', '1974', 'III) (2023', '1996', '2016',\n",
       "       '1983', '1991', '2003', 'I) (2010', 'I) (2021', 'I) (2008', '1980',\n",
       "       '1998', '1977', 'V) (2022', '1957', '1992', '1981', '1958', '1968',\n",
       "       '1987', nan, 'II) (2020', 'I) (2017', '2002', '1988', 'I) (2015',\n",
       "       '1989', '1967', '1971', 'I) (2012', 'I) (2018', 'I) (2013', '1952',\n",
       "       'I) (1987', '1966', 'I) (2016', '1939', '2025', 'IX) (2016',\n",
       "       '1960', 'I) (2007', '1965', 'I) (2005', '1942', 'I) (2009',\n",
       "       'I) (1995', 'II) (2016', '1937', 'I) (2020', 'I) (2003',\n",
       "       'I) (2004'], dtype=object)"
      ]
     },
     "execution_count": 8,
     "metadata": {},
     "output_type": "execute_result"
    }
   ],
   "source": [
    "df['Year of Release'].unique()"
   ]
  },
  {
   "cell_type": "code",
   "execution_count": 9,
   "id": "11871d08",
   "metadata": {},
   "outputs": [
    {
     "data": {
      "text/plain": [
       "2023        138\n",
       "2022         61\n",
       "2021         39\n",
       "2017         30\n",
       "2018         29\n",
       "           ... \n",
       "V) (2022      1\n",
       "I) (2008      1\n",
       "I) (1996      1\n",
       "I) (2014      1\n",
       "I) (2004      1\n",
       "Name: Year of Release, Length: 98, dtype: int64"
      ]
     },
     "execution_count": 9,
     "metadata": {},
     "output_type": "execute_result"
    }
   ],
   "source": [
    "df['Year of Release'].value_counts()"
   ]
  },
  {
   "cell_type": "code",
   "execution_count": 10,
   "id": "7305eb65",
   "metadata": {},
   "outputs": [],
   "source": [
    "df['Year of Release'] = df['Year of Release'].str.split('(').str[0]"
   ]
  },
  {
   "cell_type": "code",
   "execution_count": 11,
   "id": "d581e09d",
   "metadata": {},
   "outputs": [
    {
     "data": {
      "text/plain": [
       "2023    138\n",
       "I)       73\n",
       "2022     61\n",
       "2021     39\n",
       "2017     30\n",
       "       ... \n",
       "1952      1\n",
       "1967      1\n",
       "1958      1\n",
       "V)        1\n",
       "1937      1\n",
       "Name: Year of Release, Length: 72, dtype: int64"
      ]
     },
     "execution_count": 11,
     "metadata": {},
     "output_type": "execute_result"
    }
   ],
   "source": [
    "df['Year of Release'].value_counts()"
   ]
  },
  {
   "cell_type": "code",
   "execution_count": 12,
   "id": "0292cba3",
   "metadata": {},
   "outputs": [],
   "source": [
    "df['Year of Release'] = df['Year of Release'].str.split(')').str[0]"
   ]
  },
  {
   "cell_type": "code",
   "execution_count": 13,
   "id": "60e62cc3",
   "metadata": {},
   "outputs": [
    {
     "data": {
      "text/plain": [
       "2023    138\n",
       "I        73\n",
       "2022     61\n",
       "2021     39\n",
       "2017     30\n",
       "       ... \n",
       "1952      1\n",
       "1967      1\n",
       "1958      1\n",
       "V         1\n",
       "1937      1\n",
       "Name: Year of Release, Length: 72, dtype: int64"
      ]
     },
     "execution_count": 13,
     "metadata": {},
     "output_type": "execute_result"
    }
   ],
   "source": [
    "df['Year of Release'].value_counts()"
   ]
  },
  {
   "cell_type": "code",
   "execution_count": 14,
   "id": "b275c4c5",
   "metadata": {},
   "outputs": [],
   "source": [
    "df['Year of Release'] = df['Year of Release'].str.strip()"
   ]
  },
  {
   "cell_type": "code",
   "execution_count": 15,
   "id": "d650fcb8",
   "metadata": {},
   "outputs": [
    {
     "data": {
      "text/plain": [
       "array(['2023', 'I', '2024', 'II', '2022', '2014', '2018', '1972', '2021',\n",
       "       '2008', '2009', '1994', '2013', '2010', '2019', '2001', '2020',\n",
       "       '2006', '1995', '2017', '1975', '1997', '2011', '1999', '2005',\n",
       "       '1990', '2015', '2000', '1979', '1986', '1973', '2012', '1976',\n",
       "       '1984', '1993', '1982', '2007', '1978', '2004', '1985', '1974',\n",
       "       'III', '1996', '2016', '1983', '1991', '2003', '1980', '1998',\n",
       "       '1977', 'V', '1957', '1992', '1981', '1958', '1968', '1987', nan,\n",
       "       '2002', '1988', '1989', '1967', '1971', '1952', '1966', '1939',\n",
       "       '2025', 'IX', '1960', '1965', '1942', '1937'], dtype=object)"
      ]
     },
     "execution_count": 15,
     "metadata": {},
     "output_type": "execute_result"
    }
   ],
   "source": [
    "df['Year of Release'].unique()"
   ]
  },
  {
   "cell_type": "code",
   "execution_count": 16,
   "id": "3a81f735",
   "metadata": {},
   "outputs": [],
   "source": [
    "# Dropping that column that has outlier dates as 'I'\n",
    "index_to_drop = df[df['Year of Release'] == 'I'].index\n",
    "df.drop(index_to_drop, inplace=True)\n",
    "\n",
    "# Dropping that column that has outlier dates as 'II'\n",
    "index_to_drop1 = df[df['Year of Release'] == 'II'].index\n",
    "df.drop(index_to_drop1, inplace=True)\n",
    "\n",
    "# Dropping that column that has outlier dates as 'III'\n",
    "index_to_drop2 = df[df['Year of Release'] == 'III'].index\n",
    "df.drop(index_to_drop2, inplace=True)\n",
    "\n",
    "# Dropping that column that has outlier dates as 'V'\n",
    "index_to_drop3 = df[df['Year of Release'] == 'V'].index\n",
    "df.drop(index_to_drop3, inplace=True)\n",
    "\n",
    "# Dropping that column that has outlier dates as 'IX'\n",
    "index_to_drop4 = df[df['Year of Release'] == 'IX'].index\n",
    "df.drop(index_to_drop4, inplace=True)"
   ]
  },
  {
   "cell_type": "code",
   "execution_count": 17,
   "id": "73fa48f4",
   "metadata": {},
   "outputs": [
    {
     "data": {
      "text/plain": [
       "array(['2023', '2024', '2022', '2014', '2018', '1972', '2021', '2008',\n",
       "       '2009', '1994', '2013', '2010', '2019', '2001', '2020', '2006',\n",
       "       '1995', '2017', '1975', '1997', '2011', '1999', '2005', '1990',\n",
       "       '2015', '2000', '1979', '1986', '1973', '2012', '1976', '1984',\n",
       "       '1993', '1982', '2007', '1978', '2004', '1985', '1974', '1996',\n",
       "       '2016', '1983', '1991', '2003', '1980', '1998', '1977', '1957',\n",
       "       '1992', '1981', '1958', '1968', '1987', nan, '2002', '1988',\n",
       "       '1989', '1967', '1971', '1952', '1966', '1939', '2025', '1960',\n",
       "       '1965', '1942', '1937'], dtype=object)"
      ]
     },
     "execution_count": 17,
     "metadata": {},
     "output_type": "execute_result"
    }
   ],
   "source": [
    "df['Year of Release'].unique()"
   ]
  },
  {
   "cell_type": "code",
   "execution_count": 18,
   "id": "8cb3b5ac",
   "metadata": {},
   "outputs": [],
   "source": [
    "# Drop rows with null values in 'Year of Release' column\n",
    "df.dropna(subset=['Year of Release'], inplace=True)"
   ]
  },
  {
   "cell_type": "code",
   "execution_count": 19,
   "id": "d785afc1",
   "metadata": {},
   "outputs": [
    {
     "data": {
      "text/plain": [
       "Movie Name             0\n",
       "Year of Release        0\n",
       "Watch Time            26\n",
       "Genre                  0\n",
       "Movie Rating          44\n",
       "Metascore of movie    80\n",
       "Director               0\n",
       "Cast                   0\n",
       "Votes                 44\n",
       "Description            0\n",
       "dtype: int64"
      ]
     },
     "execution_count": 19,
     "metadata": {},
     "output_type": "execute_result"
    }
   ],
   "source": [
    "df.isnull().sum()"
   ]
  },
  {
   "cell_type": "code",
   "execution_count": 20,
   "id": "77a684b7",
   "metadata": {},
   "outputs": [
    {
     "data": {
      "text/plain": [
       "(906, 10)"
      ]
     },
     "execution_count": 20,
     "metadata": {},
     "output_type": "execute_result"
    }
   ],
   "source": [
    "df.shape"
   ]
  },
  {
   "cell_type": "code",
   "execution_count": 21,
   "id": "fee5ec95",
   "metadata": {},
   "outputs": [],
   "source": [
    "# Save the dataframe to a CSV file\n",
    "df.to_csv('clean_movie_data.csv', index=False)"
   ]
  },
  {
   "cell_type": "code",
   "execution_count": 22,
   "id": "183484ef",
   "metadata": {},
   "outputs": [
    {
     "data": {
      "text/html": [
       "<div>\n",
       "<style scoped>\n",
       "    .dataframe tbody tr th:only-of-type {\n",
       "        vertical-align: middle;\n",
       "    }\n",
       "\n",
       "    .dataframe tbody tr th {\n",
       "        vertical-align: top;\n",
       "    }\n",
       "\n",
       "    .dataframe thead th {\n",
       "        text-align: right;\n",
       "    }\n",
       "</style>\n",
       "<table border=\"1\" class=\"dataframe\">\n",
       "  <thead>\n",
       "    <tr style=\"text-align: right;\">\n",
       "      <th></th>\n",
       "      <th>Movie Name</th>\n",
       "      <th>Year of Release</th>\n",
       "      <th>Watch Time</th>\n",
       "      <th>Genre</th>\n",
       "      <th>Movie Rating</th>\n",
       "      <th>Metascore of movie</th>\n",
       "      <th>Director</th>\n",
       "      <th>Cast</th>\n",
       "      <th>Votes</th>\n",
       "      <th>Description</th>\n",
       "    </tr>\n",
       "  </thead>\n",
       "  <tbody>\n",
       "    <tr>\n",
       "      <th>0</th>\n",
       "      <td>Oppenheimer</td>\n",
       "      <td>2023</td>\n",
       "      <td>180 min</td>\n",
       "      <td>\\nBiography, Drama, History</td>\n",
       "      <td>8.6</td>\n",
       "      <td>88.0</td>\n",
       "      <td>Christopher Nolan</td>\n",
       "      <td>Cillian Murphy,Emily Blunt,Matt Damon,Robert D...</td>\n",
       "      <td>368,392</td>\n",
       "      <td>The story of American scientist, J. Robert Opp...</td>\n",
       "    </tr>\n",
       "    <tr>\n",
       "      <th>1</th>\n",
       "      <td>Barbie</td>\n",
       "      <td>2023</td>\n",
       "      <td>114 min</td>\n",
       "      <td>\\nAdventure, Comedy, Fantasy</td>\n",
       "      <td>7.4</td>\n",
       "      <td>80.0</td>\n",
       "      <td>Greta Gerwig</td>\n",
       "      <td>Margot Robbie,Ryan Gosling,Issa Rae,Kate McKinnon</td>\n",
       "      <td>246,653</td>\n",
       "      <td>Barbie suffers a crisis that leads her to ques...</td>\n",
       "    </tr>\n",
       "    <tr>\n",
       "      <th>2</th>\n",
       "      <td>Heart of Stone</td>\n",
       "      <td>2023</td>\n",
       "      <td>122 min</td>\n",
       "      <td>\\nAction, Crime, Thriller</td>\n",
       "      <td>5.7</td>\n",
       "      <td>44.0</td>\n",
       "      <td>Tom Harper</td>\n",
       "      <td>Gal Gadot,Jamie Dornan,Alia Bhatt,Jing Lusi</td>\n",
       "      <td>29,166</td>\n",
       "      <td>An intelligence operative for a shadowy global...</td>\n",
       "    </tr>\n",
       "    <tr>\n",
       "      <th>3</th>\n",
       "      <td>Red, White &amp; Royal Blue</td>\n",
       "      <td>2023</td>\n",
       "      <td>118 min</td>\n",
       "      <td>\\nComedy, Romance</td>\n",
       "      <td>7.1</td>\n",
       "      <td>62.0</td>\n",
       "      <td>Matthew López</td>\n",
       "      <td>Taylor Zakhar Perez,Nicholas Galitzine,Uma Thu...</td>\n",
       "      <td>22,778</td>\n",
       "      <td>When the feud between the son of the American ...</td>\n",
       "    </tr>\n",
       "    <tr>\n",
       "      <th>4</th>\n",
       "      <td>Blue Beetle</td>\n",
       "      <td>2023</td>\n",
       "      <td>127 min</td>\n",
       "      <td>\\nAction, Adventure, Sci-Fi</td>\n",
       "      <td>6.8</td>\n",
       "      <td>61.0</td>\n",
       "      <td>Angel Manuel Soto</td>\n",
       "      <td>Xolo Maridueña,Bruna Marquezine,Becky G,Damián...</td>\n",
       "      <td>11,680</td>\n",
       "      <td>An alien scarab chooses college graduate Jaime...</td>\n",
       "    </tr>\n",
       "  </tbody>\n",
       "</table>\n",
       "</div>"
      ],
      "text/plain": [
       "                Movie Name Year of Release Watch Time  \\\n",
       "0              Oppenheimer            2023    180 min   \n",
       "1                   Barbie            2023    114 min   \n",
       "2           Heart of Stone            2023    122 min   \n",
       "3  Red, White & Royal Blue            2023    118 min   \n",
       "4              Blue Beetle            2023    127 min   \n",
       "\n",
       "                                      Genre  Movie Rating  Metascore of movie  \\\n",
       "0   \\nBiography, Drama, History                       8.6                88.0   \n",
       "1  \\nAdventure, Comedy, Fantasy                       7.4                80.0   \n",
       "2     \\nAction, Crime, Thriller                       5.7                44.0   \n",
       "3             \\nComedy, Romance                       7.1                62.0   \n",
       "4   \\nAction, Adventure, Sci-Fi                       6.8                61.0   \n",
       "\n",
       "            Director                                               Cast  \\\n",
       "0  Christopher Nolan  Cillian Murphy,Emily Blunt,Matt Damon,Robert D...   \n",
       "1       Greta Gerwig  Margot Robbie,Ryan Gosling,Issa Rae,Kate McKinnon   \n",
       "2         Tom Harper        Gal Gadot,Jamie Dornan,Alia Bhatt,Jing Lusi   \n",
       "3      Matthew López  Taylor Zakhar Perez,Nicholas Galitzine,Uma Thu...   \n",
       "4  Angel Manuel Soto  Xolo Maridueña,Bruna Marquezine,Becky G,Damián...   \n",
       "\n",
       "     Votes                                        Description  \n",
       "0  368,392  The story of American scientist, J. Robert Opp...  \n",
       "1  246,653  Barbie suffers a crisis that leads her to ques...  \n",
       "2   29,166  An intelligence operative for a shadowy global...  \n",
       "3   22,778  When the feud between the son of the American ...  \n",
       "4   11,680  An alien scarab chooses college graduate Jaime...  "
      ]
     },
     "execution_count": 22,
     "metadata": {},
     "output_type": "execute_result"
    }
   ],
   "source": [
    "df.head()"
   ]
  }
 ],
 "metadata": {
  "kernelspec": {
   "display_name": "Python 3 (ipykernel)",
   "language": "python",
   "name": "python3"
  },
  "language_info": {
   "codemirror_mode": {
    "name": "ipython",
    "version": 3
   },
   "file_extension": ".py",
   "mimetype": "text/x-python",
   "name": "python",
   "nbconvert_exporter": "python",
   "pygments_lexer": "ipython3",
   "version": "3.9.13"
  }
 },
 "nbformat": 4,
 "nbformat_minor": 5
}
