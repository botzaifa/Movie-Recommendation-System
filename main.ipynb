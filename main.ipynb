{
 "cells": [
  {
   "cell_type": "code",
   "execution_count": 1,
   "id": "dc85256d",
   "metadata": {},
   "outputs": [],
   "source": [
    "import pandas as pd\n",
    "from sklearn.feature_extraction.text import TfidfVectorizer\n",
    "from sklearn.metrics.pairwise import linear_kernel\n",
    "import pickle"
   ]
  },
  {
   "cell_type": "code",
   "execution_count": 2,
   "id": "f5b6f40c",
   "metadata": {},
   "outputs": [
    {
     "data": {
      "text/html": [
       "<div>\n",
       "<style scoped>\n",
       "    .dataframe tbody tr th:only-of-type {\n",
       "        vertical-align: middle;\n",
       "    }\n",
       "\n",
       "    .dataframe tbody tr th {\n",
       "        vertical-align: top;\n",
       "    }\n",
       "\n",
       "    .dataframe thead th {\n",
       "        text-align: right;\n",
       "    }\n",
       "</style>\n",
       "<table border=\"1\" class=\"dataframe\">\n",
       "  <thead>\n",
       "    <tr style=\"text-align: right;\">\n",
       "      <th></th>\n",
       "      <th>Movie Name</th>\n",
       "      <th>Year of Release</th>\n",
       "      <th>Watch Time</th>\n",
       "      <th>Genre</th>\n",
       "      <th>Movie Rating</th>\n",
       "      <th>Metascore of movie</th>\n",
       "      <th>Director</th>\n",
       "      <th>Cast</th>\n",
       "      <th>Votes</th>\n",
       "      <th>Description</th>\n",
       "    </tr>\n",
       "  </thead>\n",
       "  <tbody>\n",
       "    <tr>\n",
       "      <th>0</th>\n",
       "      <td>Oppenheimer</td>\n",
       "      <td>2023</td>\n",
       "      <td>180 min</td>\n",
       "      <td>\\nBiography, Drama, History</td>\n",
       "      <td>8.6</td>\n",
       "      <td>88.0</td>\n",
       "      <td>Christopher Nolan</td>\n",
       "      <td>Cillian Murphy,Emily Blunt,Matt Damon,Robert D...</td>\n",
       "      <td>368,392</td>\n",
       "      <td>The story of American scientist, J. Robert Opp...</td>\n",
       "    </tr>\n",
       "    <tr>\n",
       "      <th>1</th>\n",
       "      <td>Barbie</td>\n",
       "      <td>2023</td>\n",
       "      <td>114 min</td>\n",
       "      <td>\\nAdventure, Comedy, Fantasy</td>\n",
       "      <td>7.4</td>\n",
       "      <td>80.0</td>\n",
       "      <td>Greta Gerwig</td>\n",
       "      <td>Margot Robbie,Ryan Gosling,Issa Rae,Kate McKinnon</td>\n",
       "      <td>246,653</td>\n",
       "      <td>Barbie suffers a crisis that leads her to ques...</td>\n",
       "    </tr>\n",
       "    <tr>\n",
       "      <th>2</th>\n",
       "      <td>Heart of Stone</td>\n",
       "      <td>2023</td>\n",
       "      <td>122 min</td>\n",
       "      <td>\\nAction, Crime, Thriller</td>\n",
       "      <td>5.7</td>\n",
       "      <td>44.0</td>\n",
       "      <td>Tom Harper</td>\n",
       "      <td>Gal Gadot,Jamie Dornan,Alia Bhatt,Jing Lusi</td>\n",
       "      <td>29,166</td>\n",
       "      <td>An intelligence operative for a shadowy global...</td>\n",
       "    </tr>\n",
       "    <tr>\n",
       "      <th>3</th>\n",
       "      <td>Red, White &amp; Royal Blue</td>\n",
       "      <td>2023</td>\n",
       "      <td>118 min</td>\n",
       "      <td>\\nComedy, Romance</td>\n",
       "      <td>7.1</td>\n",
       "      <td>62.0</td>\n",
       "      <td>Matthew López</td>\n",
       "      <td>Taylor Zakhar Perez,Nicholas Galitzine,Uma Thu...</td>\n",
       "      <td>22,778</td>\n",
       "      <td>When the feud between the son of the American ...</td>\n",
       "    </tr>\n",
       "    <tr>\n",
       "      <th>4</th>\n",
       "      <td>Blue Beetle</td>\n",
       "      <td>2023</td>\n",
       "      <td>127 min</td>\n",
       "      <td>\\nAction, Adventure, Sci-Fi</td>\n",
       "      <td>6.8</td>\n",
       "      <td>61.0</td>\n",
       "      <td>Angel Manuel Soto</td>\n",
       "      <td>Xolo Maridueña,Bruna Marquezine,Becky G,Damián...</td>\n",
       "      <td>11,680</td>\n",
       "      <td>An alien scarab chooses college graduate Jaime...</td>\n",
       "    </tr>\n",
       "  </tbody>\n",
       "</table>\n",
       "</div>"
      ],
      "text/plain": [
       "                Movie Name  Year of Release Watch Time  \\\n",
       "0              Oppenheimer             2023    180 min   \n",
       "1                   Barbie             2023    114 min   \n",
       "2           Heart of Stone             2023    122 min   \n",
       "3  Red, White & Royal Blue             2023    118 min   \n",
       "4              Blue Beetle             2023    127 min   \n",
       "\n",
       "                                      Genre  Movie Rating  Metascore of movie  \\\n",
       "0   \\nBiography, Drama, History                       8.6                88.0   \n",
       "1  \\nAdventure, Comedy, Fantasy                       7.4                80.0   \n",
       "2     \\nAction, Crime, Thriller                       5.7                44.0   \n",
       "3             \\nComedy, Romance                       7.1                62.0   \n",
       "4   \\nAction, Adventure, Sci-Fi                       6.8                61.0   \n",
       "\n",
       "            Director                                               Cast  \\\n",
       "0  Christopher Nolan  Cillian Murphy,Emily Blunt,Matt Damon,Robert D...   \n",
       "1       Greta Gerwig  Margot Robbie,Ryan Gosling,Issa Rae,Kate McKinnon   \n",
       "2         Tom Harper        Gal Gadot,Jamie Dornan,Alia Bhatt,Jing Lusi   \n",
       "3      Matthew López  Taylor Zakhar Perez,Nicholas Galitzine,Uma Thu...   \n",
       "4  Angel Manuel Soto  Xolo Maridueña,Bruna Marquezine,Becky G,Damián...   \n",
       "\n",
       "     Votes                                        Description  \n",
       "0  368,392  The story of American scientist, J. Robert Opp...  \n",
       "1  246,653  Barbie suffers a crisis that leads her to ques...  \n",
       "2   29,166  An intelligence operative for a shadowy global...  \n",
       "3   22,778  When the feud between the son of the American ...  \n",
       "4   11,680  An alien scarab chooses college graduate Jaime...  "
      ]
     },
     "execution_count": 2,
     "metadata": {},
     "output_type": "execute_result"
    }
   ],
   "source": [
    "data = pd.read_csv(\"clean_movie_data.csv\")\n",
    "data.head()"
   ]
  },
  {
   "cell_type": "code",
   "execution_count": 3,
   "id": "50a8873c",
   "metadata": {},
   "outputs": [],
   "source": [
    "data.rename(columns = {'Movie Name':'Title'}, inplace = True)"
   ]
  },
  {
   "cell_type": "code",
   "execution_count": 4,
   "id": "f67225a3",
   "metadata": {},
   "outputs": [
    {
     "data": {
      "text/html": [
       "<div>\n",
       "<style scoped>\n",
       "    .dataframe tbody tr th:only-of-type {\n",
       "        vertical-align: middle;\n",
       "    }\n",
       "\n",
       "    .dataframe tbody tr th {\n",
       "        vertical-align: top;\n",
       "    }\n",
       "\n",
       "    .dataframe thead th {\n",
       "        text-align: right;\n",
       "    }\n",
       "</style>\n",
       "<table border=\"1\" class=\"dataframe\">\n",
       "  <thead>\n",
       "    <tr style=\"text-align: right;\">\n",
       "      <th></th>\n",
       "      <th>Title</th>\n",
       "      <th>Year of Release</th>\n",
       "      <th>Watch Time</th>\n",
       "      <th>Genre</th>\n",
       "      <th>Movie Rating</th>\n",
       "      <th>Metascore of movie</th>\n",
       "      <th>Director</th>\n",
       "      <th>Cast</th>\n",
       "      <th>Votes</th>\n",
       "      <th>Description</th>\n",
       "    </tr>\n",
       "  </thead>\n",
       "  <tbody>\n",
       "    <tr>\n",
       "      <th>0</th>\n",
       "      <td>Oppenheimer</td>\n",
       "      <td>2023</td>\n",
       "      <td>180 min</td>\n",
       "      <td>\\nBiography, Drama, History</td>\n",
       "      <td>8.6</td>\n",
       "      <td>88.0</td>\n",
       "      <td>Christopher Nolan</td>\n",
       "      <td>Cillian Murphy,Emily Blunt,Matt Damon,Robert D...</td>\n",
       "      <td>368,392</td>\n",
       "      <td>The story of American scientist, J. Robert Opp...</td>\n",
       "    </tr>\n",
       "    <tr>\n",
       "      <th>1</th>\n",
       "      <td>Barbie</td>\n",
       "      <td>2023</td>\n",
       "      <td>114 min</td>\n",
       "      <td>\\nAdventure, Comedy, Fantasy</td>\n",
       "      <td>7.4</td>\n",
       "      <td>80.0</td>\n",
       "      <td>Greta Gerwig</td>\n",
       "      <td>Margot Robbie,Ryan Gosling,Issa Rae,Kate McKinnon</td>\n",
       "      <td>246,653</td>\n",
       "      <td>Barbie suffers a crisis that leads her to ques...</td>\n",
       "    </tr>\n",
       "    <tr>\n",
       "      <th>2</th>\n",
       "      <td>Heart of Stone</td>\n",
       "      <td>2023</td>\n",
       "      <td>122 min</td>\n",
       "      <td>\\nAction, Crime, Thriller</td>\n",
       "      <td>5.7</td>\n",
       "      <td>44.0</td>\n",
       "      <td>Tom Harper</td>\n",
       "      <td>Gal Gadot,Jamie Dornan,Alia Bhatt,Jing Lusi</td>\n",
       "      <td>29,166</td>\n",
       "      <td>An intelligence operative for a shadowy global...</td>\n",
       "    </tr>\n",
       "    <tr>\n",
       "      <th>3</th>\n",
       "      <td>Red, White &amp; Royal Blue</td>\n",
       "      <td>2023</td>\n",
       "      <td>118 min</td>\n",
       "      <td>\\nComedy, Romance</td>\n",
       "      <td>7.1</td>\n",
       "      <td>62.0</td>\n",
       "      <td>Matthew López</td>\n",
       "      <td>Taylor Zakhar Perez,Nicholas Galitzine,Uma Thu...</td>\n",
       "      <td>22,778</td>\n",
       "      <td>When the feud between the son of the American ...</td>\n",
       "    </tr>\n",
       "    <tr>\n",
       "      <th>4</th>\n",
       "      <td>Blue Beetle</td>\n",
       "      <td>2023</td>\n",
       "      <td>127 min</td>\n",
       "      <td>\\nAction, Adventure, Sci-Fi</td>\n",
       "      <td>6.8</td>\n",
       "      <td>61.0</td>\n",
       "      <td>Angel Manuel Soto</td>\n",
       "      <td>Xolo Maridueña,Bruna Marquezine,Becky G,Damián...</td>\n",
       "      <td>11,680</td>\n",
       "      <td>An alien scarab chooses college graduate Jaime...</td>\n",
       "    </tr>\n",
       "  </tbody>\n",
       "</table>\n",
       "</div>"
      ],
      "text/plain": [
       "                     Title  Year of Release Watch Time  \\\n",
       "0              Oppenheimer             2023    180 min   \n",
       "1                   Barbie             2023    114 min   \n",
       "2           Heart of Stone             2023    122 min   \n",
       "3  Red, White & Royal Blue             2023    118 min   \n",
       "4              Blue Beetle             2023    127 min   \n",
       "\n",
       "                                      Genre  Movie Rating  Metascore of movie  \\\n",
       "0   \\nBiography, Drama, History                       8.6                88.0   \n",
       "1  \\nAdventure, Comedy, Fantasy                       7.4                80.0   \n",
       "2     \\nAction, Crime, Thriller                       5.7                44.0   \n",
       "3             \\nComedy, Romance                       7.1                62.0   \n",
       "4   \\nAction, Adventure, Sci-Fi                       6.8                61.0   \n",
       "\n",
       "            Director                                               Cast  \\\n",
       "0  Christopher Nolan  Cillian Murphy,Emily Blunt,Matt Damon,Robert D...   \n",
       "1       Greta Gerwig  Margot Robbie,Ryan Gosling,Issa Rae,Kate McKinnon   \n",
       "2         Tom Harper        Gal Gadot,Jamie Dornan,Alia Bhatt,Jing Lusi   \n",
       "3      Matthew López  Taylor Zakhar Perez,Nicholas Galitzine,Uma Thu...   \n",
       "4  Angel Manuel Soto  Xolo Maridueña,Bruna Marquezine,Becky G,Damián...   \n",
       "\n",
       "     Votes                                        Description  \n",
       "0  368,392  The story of American scientist, J. Robert Opp...  \n",
       "1  246,653  Barbie suffers a crisis that leads her to ques...  \n",
       "2   29,166  An intelligence operative for a shadowy global...  \n",
       "3   22,778  When the feud between the son of the American ...  \n",
       "4   11,680  An alien scarab chooses college graduate Jaime...  "
      ]
     },
     "execution_count": 4,
     "metadata": {},
     "output_type": "execute_result"
    }
   ],
   "source": [
    "data.head()"
   ]
  },
  {
   "cell_type": "code",
   "execution_count": 5,
   "id": "ec58acb6",
   "metadata": {},
   "outputs": [
    {
     "name": "stdout",
     "output_type": "stream",
     "text": [
      "<class 'pandas.core.frame.DataFrame'>\n",
      "RangeIndex: 906 entries, 0 to 905\n",
      "Data columns (total 10 columns):\n",
      " #   Column              Non-Null Count  Dtype  \n",
      "---  ------              --------------  -----  \n",
      " 0   Title               906 non-null    object \n",
      " 1   Year of Release     906 non-null    int64  \n",
      " 2   Watch Time          880 non-null    object \n",
      " 3   Genre               906 non-null    object \n",
      " 4   Movie Rating        862 non-null    float64\n",
      " 5   Metascore of movie  826 non-null    float64\n",
      " 6   Director            906 non-null    object \n",
      " 7   Cast                906 non-null    object \n",
      " 8   Votes               862 non-null    object \n",
      " 9   Description         906 non-null    object \n",
      "dtypes: float64(2), int64(1), object(7)\n",
      "memory usage: 70.9+ KB\n"
     ]
    }
   ],
   "source": [
    "data.info()"
   ]
  },
  {
   "cell_type": "code",
   "execution_count": 6,
   "id": "7e07440b",
   "metadata": {},
   "outputs": [],
   "source": [
    "data.rename(columns={'Unnamed: 0': 'movie_id'}, inplace=True)"
   ]
  },
  {
   "cell_type": "code",
   "execution_count": 9,
   "id": "8ac1cec7",
   "metadata": {},
   "outputs": [],
   "source": [
    "columns=['Cast','Director','Genre','Title','Description']"
   ]
  },
  {
   "cell_type": "code",
   "execution_count": 10,
   "id": "b6bc35d2",
   "metadata": {},
   "outputs": [
    {
     "data": {
      "text/plain": [
       "False"
      ]
     },
     "execution_count": 10,
     "metadata": {},
     "output_type": "execute_result"
    }
   ],
   "source": [
    "#no null values\n",
    "data[columns].isnull().values.any() "
   ]
  },
  {
   "cell_type": "code",
   "execution_count": 11,
   "id": "de56693f",
   "metadata": {},
   "outputs": [],
   "source": [
    "def get_important_features(data):\n",
    "    important_features=[]\n",
    "    for i in range (0,data.shape[0]):\n",
    "        important_features.append(data['Title'][i]+' '+data['Director'][i]+' '+data['Genre'][i]+' '+data['Description'][i]+' '+data['Cast'])\n",
    "    return important_features"
   ]
  },
  {
   "cell_type": "code",
   "execution_count": 12,
   "id": "c6c6a714",
   "metadata": {},
   "outputs": [],
   "source": [
    "#creating a column to hold the combined strings\n",
    "data['important_features']=get_important_features(data)"
   ]
  },
  {
   "cell_type": "code",
   "execution_count": 13,
   "id": "e2a9b52a",
   "metadata": {},
   "outputs": [
    {
     "name": "stdout",
     "output_type": "stream",
     "text": [
      "(906, 5330)\n"
     ]
    }
   ],
   "source": [
    "tfidf = TfidfVectorizer(stop_words='english')\n",
    "tfidf_matrix = tfidf.fit_transform(data['Description'])\n",
    "print(tfidf_matrix.shape)"
   ]
  },
  {
   "cell_type": "code",
   "execution_count": 14,
   "id": "e0b1bfed",
   "metadata": {},
   "outputs": [],
   "source": [
    "cosine_sim = linear_kernel(tfidf_matrix, tfidf_matrix)"
   ]
  },
  {
   "cell_type": "code",
   "execution_count": 15,
   "id": "7f8af5eb",
   "metadata": {},
   "outputs": [],
   "source": [
    "indices = pd.Series(data.index, index=data['Title']).drop_duplicates()\n",
    "#indices['Stillwater']\n",
    "#sim_scores = list(enumerate(cosine_sim[indices['Stillwater']]))"
   ]
  },
  {
   "cell_type": "code",
   "execution_count": 16,
   "id": "cdec0988",
   "metadata": {},
   "outputs": [],
   "source": [
    "def get_recommendations(title, cosine_sim=cosine_sim):\n",
    "    idx = indices[title]\n",
    "    # Get the pair-wise similarity scores of all movies with that movie\n",
    "    sim_scores = list(enumerate(cosine_sim[idx]))\n",
    "    # Sort the movies based on the similarity score\n",
    "    sim_scores = sorted(sim_scores, key=lambda x: x[1], reverse=True)\n",
    "    sim_scores = sim_scores[1:6]\n",
    "    movie_indices = [i[0] for i in sim_scores]\n",
    "    # Return the top 5 most similar movies\n",
    "    similar_movies = data['Title'].iloc[movie_indices]\n",
    "    result_dict = {\"Movies\": similar_movies, \"SimilarityScore\": [i[1] for i in sim_scores]}\n",
    "    final_df = pd.DataFrame(result_dict)\n",
    "    final_df.reset_index(drop=True, inplace=True)\n",
    "    return final_df"
   ]
  },
  {
   "cell_type": "code",
   "execution_count": 17,
   "id": "c9d8da2a",
   "metadata": {},
   "outputs": [
    {
     "data": {
      "text/html": [
       "<div>\n",
       "<style scoped>\n",
       "    .dataframe tbody tr th:only-of-type {\n",
       "        vertical-align: middle;\n",
       "    }\n",
       "\n",
       "    .dataframe tbody tr th {\n",
       "        vertical-align: top;\n",
       "    }\n",
       "\n",
       "    .dataframe thead th {\n",
       "        text-align: right;\n",
       "    }\n",
       "</style>\n",
       "<table border=\"1\" class=\"dataframe\">\n",
       "  <thead>\n",
       "    <tr style=\"text-align: right;\">\n",
       "      <th></th>\n",
       "      <th>Movies</th>\n",
       "      <th>SimilarityScore</th>\n",
       "    </tr>\n",
       "  </thead>\n",
       "  <tbody>\n",
       "    <tr>\n",
       "      <th>0</th>\n",
       "      <td>A Quiet Place Part II</td>\n",
       "      <td>0.188271</td>\n",
       "    </tr>\n",
       "    <tr>\n",
       "      <th>1</th>\n",
       "      <td>Avengers: Endgame</td>\n",
       "      <td>0.177398</td>\n",
       "    </tr>\n",
       "    <tr>\n",
       "      <th>2</th>\n",
       "      <td>Joker: Folie à Deux</td>\n",
       "      <td>0.155667</td>\n",
       "    </tr>\n",
       "    <tr>\n",
       "      <th>3</th>\n",
       "      <td>Spider-Man: Into the Spider-Verse</td>\n",
       "      <td>0.153504</td>\n",
       "    </tr>\n",
       "    <tr>\n",
       "      <th>4</th>\n",
       "      <td>Asteroid City</td>\n",
       "      <td>0.141503</td>\n",
       "    </tr>\n",
       "  </tbody>\n",
       "</table>\n",
       "</div>"
      ],
      "text/plain": [
       "                              Movies  SimilarityScore\n",
       "0              A Quiet Place Part II         0.188271\n",
       "1                  Avengers: Endgame         0.177398\n",
       "2                Joker: Folie à Deux         0.155667\n",
       "3  Spider-Man: Into the Spider-Verse         0.153504\n",
       "4                      Asteroid City         0.141503"
      ]
     },
     "execution_count": 17,
     "metadata": {},
     "output_type": "execute_result"
    }
   ],
   "source": [
    "get_recommendations('Spider-Man: Far from Home')"
   ]
  },
  {
   "cell_type": "code",
   "execution_count": 18,
   "id": "bc49f897",
   "metadata": {},
   "outputs": [
    {
     "data": {
      "text/html": [
       "<div>\n",
       "<style scoped>\n",
       "    .dataframe tbody tr th:only-of-type {\n",
       "        vertical-align: middle;\n",
       "    }\n",
       "\n",
       "    .dataframe tbody tr th {\n",
       "        vertical-align: top;\n",
       "    }\n",
       "\n",
       "    .dataframe thead th {\n",
       "        text-align: right;\n",
       "    }\n",
       "</style>\n",
       "<table border=\"1\" class=\"dataframe\">\n",
       "  <thead>\n",
       "    <tr style=\"text-align: right;\">\n",
       "      <th></th>\n",
       "      <th>Movies</th>\n",
       "      <th>SimilarityScore</th>\n",
       "    </tr>\n",
       "  </thead>\n",
       "  <tbody>\n",
       "    <tr>\n",
       "      <th>0</th>\n",
       "      <td>Passages</td>\n",
       "      <td>0.139777</td>\n",
       "    </tr>\n",
       "    <tr>\n",
       "      <th>1</th>\n",
       "      <td>American Beauty</td>\n",
       "      <td>0.138918</td>\n",
       "    </tr>\n",
       "    <tr>\n",
       "      <th>2</th>\n",
       "      <td>Harry Potter and the Deathly Hallows: Part 1</td>\n",
       "      <td>0.129069</td>\n",
       "    </tr>\n",
       "    <tr>\n",
       "      <th>3</th>\n",
       "      <td>Mother!</td>\n",
       "      <td>0.120637</td>\n",
       "    </tr>\n",
       "    <tr>\n",
       "      <th>4</th>\n",
       "      <td>She Came to Me</td>\n",
       "      <td>0.119428</td>\n",
       "    </tr>\n",
       "  </tbody>\n",
       "</table>\n",
       "</div>"
      ],
      "text/plain": [
       "                                         Movies  SimilarityScore\n",
       "0                                      Passages         0.139777\n",
       "1                               American Beauty         0.138918\n",
       "2  Harry Potter and the Deathly Hallows: Part 1         0.129069\n",
       "3                                       Mother!         0.120637\n",
       "4                                She Came to Me         0.119428"
      ]
     },
     "execution_count": 18,
     "metadata": {},
     "output_type": "execute_result"
    }
   ],
   "source": [
    "get_recommendations('Barbie')"
   ]
  },
  {
   "cell_type": "code",
   "execution_count": 19,
   "id": "144b8a95",
   "metadata": {},
   "outputs": [
    {
     "name": "stdout",
     "output_type": "stream",
     "text": [
      "<class 'pandas.core.frame.DataFrame'>\n",
      "RangeIndex: 906 entries, 0 to 905\n",
      "Data columns (total 11 columns):\n",
      " #   Column              Non-Null Count  Dtype  \n",
      "---  ------              --------------  -----  \n",
      " 0   Title               906 non-null    object \n",
      " 1   Year of Release     906 non-null    int64  \n",
      " 2   Watch Time          880 non-null    object \n",
      " 3   Genre               906 non-null    object \n",
      " 4   Movie Rating        862 non-null    float64\n",
      " 5   Metascore of movie  826 non-null    float64\n",
      " 6   Director            906 non-null    object \n",
      " 7   Cast                906 non-null    object \n",
      " 8   Votes               862 non-null    object \n",
      " 9   Description         906 non-null    object \n",
      " 10  important_features  906 non-null    object \n",
      "dtypes: float64(2), int64(1), object(8)\n",
      "memory usage: 78.0+ KB\n"
     ]
    }
   ],
   "source": [
    "data.info()\n",
    "new = data.drop(columns=['Year of Release','Watch Time','Genre','Movie Rating',\n",
    "                         'Metascore of movie','Director','Cast','Votes','Description'])"
   ]
  },
  {
   "cell_type": "code",
   "execution_count": 20,
   "id": "a7e8ffb2",
   "metadata": {},
   "outputs": [],
   "source": [
    "pickle.dump(new,open('movie_list.pkl','wb'))\n",
    "pickle.dump(cosine_sim,open('similarity.pkl','wb'))"
   ]
  }
 ],
 "metadata": {
  "kernelspec": {
   "display_name": "Python 3 (ipykernel)",
   "language": "python",
   "name": "python3"
  },
  "language_info": {
   "codemirror_mode": {
    "name": "ipython",
    "version": 3
   },
   "file_extension": ".py",
   "mimetype": "text/x-python",
   "name": "python",
   "nbconvert_exporter": "python",
   "pygments_lexer": "ipython3",
   "version": "3.9.13"
  }
 },
 "nbformat": 4,
 "nbformat_minor": 5
}
